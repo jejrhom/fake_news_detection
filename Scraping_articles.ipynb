{
 "cells": [
  {
   "cell_type": "markdown",
   "metadata": {},
   "source": [
    "### Scrap web page and predict"
   ]
  },
  {
   "cell_type": "code",
   "execution_count": null,
   "metadata": {},
   "outputs": [],
   "source": [
    "# link for extract html data\n",
    "paragraphs = []\n",
    "def getdata(url): \n",
    "    r = requests.get(url) \n",
    "    return r.text \n",
    "htmldata = getdata(input()) \n",
    "soup = BeautifulSoup(htmldata, 'html.parser')\n",
    "for script in soup([\"script\", \"style\"]):\n",
    "    script.extract()\n",
    "data = '' \n",
    "for data in soup.find_all(\"p\"):\n",
    "    paragraphs.append(data.get_text())\n",
    "    text = ''.join(paragraphs[0:20])\n",
    "if passiveaggressive.predict(tfidf_vectorizer.transform([text]))[0] == \"FAKE\" : \n",
    "    print(\"This article is a possible FAKE NEWS !\")\n",
    "else : \n",
    "    print(\"This article seems to be pretty legitimate !\")"
   ]
  }
 ],
 "metadata": {
  "kernelspec": {
   "display_name": "Python 3",
   "language": "python",
   "name": "python3"
  },
  "language_info": {
   "codemirror_mode": {
    "name": "ipython",
    "version": 3
   },
   "file_extension": ".py",
   "mimetype": "text/x-python",
   "name": "python",
   "nbconvert_exporter": "python",
   "pygments_lexer": "ipython3",
   "version": "3.7.6"
  }
 },
 "nbformat": 4,
 "nbformat_minor": 4
}
